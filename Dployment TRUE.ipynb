{
 "cells": [
  {
   "cell_type": "markdown",
   "metadata": {},
   "source": [
    "# Deployment of NLP Sentiment Analysis & Summarization System\n",
    "\n",
    "##  Project Overview\n",
    "This document describes the deployment stage of a complete NLP pipeline that performs:\n",
    "- **Review Summarization**\n",
    "- **Sentiment Classification**\n",
    "- **Complaint Highlighting**\n",
    "- **Worst Product Identification**\n",
    "\n",
    "The deployment was implemented using **Gradio** to create a user-friendly web interface for analyzing customer reviews from CSV files.\n",
    "\n",
    "![Deployment](https://example.com/deployment-diagram.png) *Replace with your interface screenshot or diagram*\n",
    "\n",
    "---\n",
    "\n",
    "## Deployment Tools & Technologies\n",
    "| Tool      | Purpose                         |\n",
    "|-----------|----------------------------------|\n",
    "| Gradio    | Building interactive web UI     |\n",
    "| Transformers | Load BERT-based summarization & classification models |\n",
    "| Pandas    | Data preprocessing              |\n",
    "| Python    | Backend logic and file handling |\n",
    "\n",
    "---\n",
    "\n",
    "##  Deployment Workflow\n",
    "\n",
    "### 1. Interface Design with Gradio\n",
    "- File upload for **CSV review data**\n",
    "- Dropdown menu to select **product category**\n",
    "- Display area for formatted analysis text\n",
    "\n",
    "### 2. Model Integration\n",
    "- **Summarization** model: `facebook/bart-large-cnn`\n",
    "- **Sentiment classifier**: Custom fine-tuned BERT model with 2 classes (`POSITIVE`, `NEGATIVE`)\n",
    "- Optional: placeholder for `NEUTRAL` for future extension\n",
    "\n",
    "### 3. Review Processing Pipeline\n",
    "For each product:\n",
    "- Aggregate top reviews\n",
    "- Summarize reviews into readable narrative\n",
    "- Extract negative comments as complaints\n",
    "- Analyze sentiment distribution\n",
    "\n",
    "### 4. Output Generation\n",
    "- Display **Top 3 Products** in storytelling format\n",
    "- Present **Sentiment Scores** per product\n",
    "- Highlight **Worst Product**\n",
    "- Include **Average Rating** of selected category\n",
    "\n",
    "---\n",
    "\n",
    "##  Gradio Interface Example\n",
    "\n",
    "```python\n",
    "gr.Interface(\n",
    "    fn=analyze_uploaded_file,\n",
    "    inputs=[\n",
    "        gr.File(label=\"Upload CSV File\"),\n",
    "        gr.Dropdown(choices=categories, label=\"Select a Category\")\n",
    "    ],\n",
    "    outputs=\"text\",\n",
    "    title=\"Product Review Analyzer\",\n",
    "    description=\"Upload a CSV file containing product reviews and choose a category to analyze.\"\n",
    ").launch()\n",
    "\n"
   ]
  },
  {
   "cell_type": "code",
   "execution_count": 3,
   "metadata": {},
   "outputs": [
    {
     "name": "stdout",
     "output_type": "stream",
     "text": [
      "Requirement already satisfied: gradio in /Library/Frameworks/Python.framework/Versions/3.11/lib/python3.11/site-packages (5.23.3)\n",
      "Requirement already satisfied: transformers in /Library/Frameworks/Python.framework/Versions/3.11/lib/python3.11/site-packages (4.50.3)\n",
      "Requirement already satisfied: torch in /Library/Frameworks/Python.framework/Versions/3.11/lib/python3.11/site-packages (2.2.2)\n",
      "Requirement already satisfied: aiofiles<24.0,>=22.0 in /Library/Frameworks/Python.framework/Versions/3.11/lib/python3.11/site-packages (from gradio) (23.2.1)\n",
      "Requirement already satisfied: anyio<5.0,>=3.0 in /Library/Frameworks/Python.framework/Versions/3.11/lib/python3.11/site-packages (from gradio) (4.8.0)\n",
      "Requirement already satisfied: fastapi<1.0,>=0.115.2 in /Library/Frameworks/Python.framework/Versions/3.11/lib/python3.11/site-packages (from gradio) (0.115.11)\n",
      "Requirement already satisfied: ffmpy in /Library/Frameworks/Python.framework/Versions/3.11/lib/python3.11/site-packages (from gradio) (0.5.0)\n",
      "Requirement already satisfied: gradio-client==1.8.0 in /Library/Frameworks/Python.framework/Versions/3.11/lib/python3.11/site-packages (from gradio) (1.8.0)\n",
      "Requirement already satisfied: groovy~=0.1 in /Library/Frameworks/Python.framework/Versions/3.11/lib/python3.11/site-packages (from gradio) (0.1.2)\n",
      "Requirement already satisfied: httpx>=0.24.1 in /Library/Frameworks/Python.framework/Versions/3.11/lib/python3.11/site-packages (from gradio) (0.28.1)\n",
      "Requirement already satisfied: huggingface-hub>=0.28.1 in /Library/Frameworks/Python.framework/Versions/3.11/lib/python3.11/site-packages (from gradio) (0.29.2)\n",
      "Requirement already satisfied: jinja2<4.0 in /Library/Frameworks/Python.framework/Versions/3.11/lib/python3.11/site-packages (from gradio) (3.1.6)\n",
      "Requirement already satisfied: markupsafe<4.0,>=2.0 in /Library/Frameworks/Python.framework/Versions/3.11/lib/python3.11/site-packages (from gradio) (3.0.2)\n",
      "Requirement already satisfied: numpy<3.0,>=1.0 in /Library/Frameworks/Python.framework/Versions/3.11/lib/python3.11/site-packages (from gradio) (1.26.4)\n",
      "Requirement already satisfied: orjson~=3.0 in /Library/Frameworks/Python.framework/Versions/3.11/lib/python3.11/site-packages (from gradio) (3.10.15)\n",
      "Requirement already satisfied: packaging in /Library/Frameworks/Python.framework/Versions/3.11/lib/python3.11/site-packages (from gradio) (24.2)\n",
      "Requirement already satisfied: pandas<3.0,>=1.0 in /Library/Frameworks/Python.framework/Versions/3.11/lib/python3.11/site-packages (from gradio) (2.1.1)\n",
      "Requirement already satisfied: pillow<12.0,>=8.0 in /Library/Frameworks/Python.framework/Versions/3.11/lib/python3.11/site-packages (from gradio) (10.0.1)\n",
      "Requirement already satisfied: pydantic<2.12,>=2.0 in /Library/Frameworks/Python.framework/Versions/3.11/lib/python3.11/site-packages (from gradio) (2.10.6)\n",
      "Requirement already satisfied: pydub in /Library/Frameworks/Python.framework/Versions/3.11/lib/python3.11/site-packages (from gradio) (0.25.1)\n",
      "Requirement already satisfied: python-multipart>=0.0.18 in /Library/Frameworks/Python.framework/Versions/3.11/lib/python3.11/site-packages (from gradio) (0.0.20)\n",
      "Requirement already satisfied: pyyaml<7.0,>=5.0 in /Library/Frameworks/Python.framework/Versions/3.11/lib/python3.11/site-packages (from gradio) (6.0.2)\n",
      "Requirement already satisfied: ruff>=0.9.3 in /Library/Frameworks/Python.framework/Versions/3.11/lib/python3.11/site-packages (from gradio) (0.11.4)\n",
      "Requirement already satisfied: safehttpx<0.2.0,>=0.1.6 in /Library/Frameworks/Python.framework/Versions/3.11/lib/python3.11/site-packages (from gradio) (0.1.6)\n",
      "Requirement already satisfied: semantic-version~=2.0 in /Library/Frameworks/Python.framework/Versions/3.11/lib/python3.11/site-packages (from gradio) (2.10.0)\n",
      "Requirement already satisfied: starlette<1.0,>=0.40.0 in /Library/Frameworks/Python.framework/Versions/3.11/lib/python3.11/site-packages (from gradio) (0.46.1)\n",
      "Requirement already satisfied: tomlkit<0.14.0,>=0.12.0 in /Library/Frameworks/Python.framework/Versions/3.11/lib/python3.11/site-packages (from gradio) (0.13.2)\n",
      "Requirement already satisfied: typer<1.0,>=0.12 in /Library/Frameworks/Python.framework/Versions/3.11/lib/python3.11/site-packages (from gradio) (0.15.2)\n",
      "Requirement already satisfied: typing-extensions~=4.0 in /Library/Frameworks/Python.framework/Versions/3.11/lib/python3.11/site-packages (from gradio) (4.12.2)\n",
      "Requirement already satisfied: uvicorn>=0.14.0 in /Library/Frameworks/Python.framework/Versions/3.11/lib/python3.11/site-packages (from gradio) (0.34.0)\n",
      "Requirement already satisfied: fsspec in /Library/Frameworks/Python.framework/Versions/3.11/lib/python3.11/site-packages (from gradio-client==1.8.0->gradio) (2023.10.0)\n",
      "Requirement already satisfied: websockets<16.0,>=10.0 in /Library/Frameworks/Python.framework/Versions/3.11/lib/python3.11/site-packages (from gradio-client==1.8.0->gradio) (15.0.1)\n",
      "Requirement already satisfied: filelock in /Library/Frameworks/Python.framework/Versions/3.11/lib/python3.11/site-packages (from transformers) (3.17.0)\n",
      "Requirement already satisfied: regex!=2019.12.17 in /Library/Frameworks/Python.framework/Versions/3.11/lib/python3.11/site-packages (from transformers) (2024.11.6)\n",
      "Requirement already satisfied: requests in /Library/Frameworks/Python.framework/Versions/3.11/lib/python3.11/site-packages (from transformers) (2.32.3)\n",
      "Requirement already satisfied: tokenizers<0.22,>=0.21 in /Library/Frameworks/Python.framework/Versions/3.11/lib/python3.11/site-packages (from transformers) (0.21.0)\n",
      "Requirement already satisfied: safetensors>=0.4.3 in /Library/Frameworks/Python.framework/Versions/3.11/lib/python3.11/site-packages (from transformers) (0.5.3)\n",
      "Requirement already satisfied: tqdm>=4.27 in /Library/Frameworks/Python.framework/Versions/3.11/lib/python3.11/site-packages (from transformers) (4.67.1)\n",
      "Requirement already satisfied: sympy in /Library/Frameworks/Python.framework/Versions/3.11/lib/python3.11/site-packages (from torch) (1.13.3)\n",
      "Requirement already satisfied: networkx in /Library/Frameworks/Python.framework/Versions/3.11/lib/python3.11/site-packages (from torch) (3.4.2)\n",
      "Requirement already satisfied: idna>=2.8 in /Library/Frameworks/Python.framework/Versions/3.11/lib/python3.11/site-packages (from anyio<5.0,>=3.0->gradio) (3.10)\n",
      "Requirement already satisfied: sniffio>=1.1 in /Library/Frameworks/Python.framework/Versions/3.11/lib/python3.11/site-packages (from anyio<5.0,>=3.0->gradio) (1.3.1)\n",
      "Requirement already satisfied: certifi in /Library/Frameworks/Python.framework/Versions/3.11/lib/python3.11/site-packages (from httpx>=0.24.1->gradio) (2025.1.31)\n",
      "Requirement already satisfied: httpcore==1.* in /Library/Frameworks/Python.framework/Versions/3.11/lib/python3.11/site-packages (from httpx>=0.24.1->gradio) (1.0.7)\n",
      "Requirement already satisfied: h11<0.15,>=0.13 in /Library/Frameworks/Python.framework/Versions/3.11/lib/python3.11/site-packages (from httpcore==1.*->httpx>=0.24.1->gradio) (0.14.0)\n",
      "Requirement already satisfied: python-dateutil>=2.8.2 in /Library/Frameworks/Python.framework/Versions/3.11/lib/python3.11/site-packages (from pandas<3.0,>=1.0->gradio) (2.8.2)\n",
      "Requirement already satisfied: pytz>=2020.1 in /Library/Frameworks/Python.framework/Versions/3.11/lib/python3.11/site-packages (from pandas<3.0,>=1.0->gradio) (2023.3.post1)\n",
      "Requirement already satisfied: tzdata>=2022.1 in /Library/Frameworks/Python.framework/Versions/3.11/lib/python3.11/site-packages (from pandas<3.0,>=1.0->gradio) (2023.3)\n",
      "Requirement already satisfied: annotated-types>=0.6.0 in /Library/Frameworks/Python.framework/Versions/3.11/lib/python3.11/site-packages (from pydantic<2.12,>=2.0->gradio) (0.7.0)\n",
      "Requirement already satisfied: pydantic-core==2.27.2 in /Library/Frameworks/Python.framework/Versions/3.11/lib/python3.11/site-packages (from pydantic<2.12,>=2.0->gradio) (2.27.2)\n",
      "Requirement already satisfied: click>=8.0.0 in /Library/Frameworks/Python.framework/Versions/3.11/lib/python3.11/site-packages (from typer<1.0,>=0.12->gradio) (8.1.8)\n",
      "Requirement already satisfied: shellingham>=1.3.0 in /Library/Frameworks/Python.framework/Versions/3.11/lib/python3.11/site-packages (from typer<1.0,>=0.12->gradio) (1.5.4)\n",
      "Requirement already satisfied: rich>=10.11.0 in /Library/Frameworks/Python.framework/Versions/3.11/lib/python3.11/site-packages (from typer<1.0,>=0.12->gradio) (13.9.4)\n",
      "Requirement already satisfied: charset-normalizer<4,>=2 in /Library/Frameworks/Python.framework/Versions/3.11/lib/python3.11/site-packages (from requests->transformers) (3.4.1)\n",
      "Requirement already satisfied: urllib3<3,>=1.21.1 in /Library/Frameworks/Python.framework/Versions/3.11/lib/python3.11/site-packages (from requests->transformers) (2.3.0)\n",
      "Requirement already satisfied: mpmath<1.4,>=1.1.0 in /Library/Frameworks/Python.framework/Versions/3.11/lib/python3.11/site-packages (from sympy->torch) (1.3.0)\n",
      "Requirement already satisfied: six>=1.5 in /Library/Frameworks/Python.framework/Versions/3.11/lib/python3.11/site-packages (from python-dateutil>=2.8.2->pandas<3.0,>=1.0->gradio) (1.16.0)\n",
      "Requirement already satisfied: markdown-it-py>=2.2.0 in /Library/Frameworks/Python.framework/Versions/3.11/lib/python3.11/site-packages (from rich>=10.11.0->typer<1.0,>=0.12->gradio) (3.0.0)\n",
      "Requirement already satisfied: pygments<3.0.0,>=2.13.0 in /Users/aleph/Library/Python/3.11/lib/python/site-packages (from rich>=10.11.0->typer<1.0,>=0.12->gradio) (2.17.2)\n",
      "Requirement already satisfied: mdurl~=0.1 in /Library/Frameworks/Python.framework/Versions/3.11/lib/python3.11/site-packages (from markdown-it-py>=2.2.0->rich>=10.11.0->typer<1.0,>=0.12->gradio) (0.1.2)\n",
      "Note: you may need to restart the kernel to use updated packages.\n"
     ]
    }
   ],
   "source": [
    "pip install gradio transformers torch"
   ]
  },
  {
   "cell_type": "markdown",
   "metadata": {},
   "source": [
    "##  Importing Libraries"
   ]
  },
  {
   "cell_type": "code",
   "execution_count": 4,
   "metadata": {},
   "outputs": [],
   "source": [
    "import gradio as gr\n",
    "import pandas as pd\n",
    "from transformers import pipeline\n"
   ]
  },
  {
   "cell_type": "markdown",
   "metadata": {},
   "source": [
    "# Load models"
   ]
  },
  {
   "cell_type": "code",
   "execution_count": null,
   "metadata": {},
   "outputs": [],
   "source": [
    "# Load models\n",
    "summarizer = pipeline(\"summarization\", model=\"facebook/bart-large-cnn\")\n",
    "sentiment_classifier = pipeline(\"sentiment-analysis\", model=\"saved_model_pytorch\", tokenizer=\"saved_model_pytorch\")"
   ]
  },
  {
   "cell_type": "markdown",
   "metadata": {},
   "source": [
    "#  Summarization Function"
   ]
  },
  {
   "cell_type": "code",
   "execution_count": 9,
   "metadata": {},
   "outputs": [],
   "source": [
    "# Summarization function\n",
    "def summarize_reviews(reviews):\n",
    "    combined = \" \".join(reviews[:10])[:1024]  # Join and truncate the first 10 reviews\n",
    "    summary = summarizer(combined, max_length=150, min_length=30, do_sample=False)  # Generate summary\n",
    "    return summary[0]['summary_text']  # Return the summarized text"
   ]
  },
  {
   "cell_type": "markdown",
   "metadata": {},
   "source": [
    "# Sentiment Classification Function"
   ]
  },
  {
   "cell_type": "code",
   "execution_count": 10,
   "metadata": {},
   "outputs": [],
   "source": [
    "\n",
    "# Sentiment classification function\n",
    "def classify_reviews(reviews):\n",
    "    sample_reviews = reviews[:5]  # Take the first 5 reviews for faster evaluation\n",
    "    sentiments = sentiment_classifier(sample_reviews)  # Get predicted labels\n",
    "\n",
    "    sentiment_counts = {\"POSITIVE\": 0, \"NEGATIVE\": 0, \"NEUTRAL\": 0}  # Initialize sentiment counters\n",
    "    for sentiment in sentiments:\n",
    "        label = sentiment['label'].upper()\n",
    "        if label in sentiment_counts:\n",
    "            sentiment_counts[label] += 1\n",
    "\n",
    "    total = sum(sentiment_counts.values())\n",
    "    if total == 0:\n",
    "        return \"No sentiments detected.\"\n",
    "\n",
    "    # Compute sentiment distribution ratios\n",
    "    pos_ratio = sentiment_counts[\"POSITIVE\"] / total * 100\n",
    "    neg_ratio = sentiment_counts[\"NEGATIVE\"] / total * 100\n",
    "    neu_ratio = sentiment_counts[\"NEUTRAL\"] / total * 100\n",
    "\n",
    "    return f\"Positive: {pos_ratio:.1f}%, Neutral: {neu_ratio:.1f}%, Negative: {neg_ratio:.1f}%\"\n"
   ]
  },
  {
   "cell_type": "markdown",
   "metadata": {},
   "source": [
    "# Clean DataFrame Function"
   ]
  },
  {
   "cell_type": "code",
   "execution_count": 11,
   "metadata": {},
   "outputs": [],
   "source": [
    "# Clean DataFrame\n",
    "def clean_dataframe(df):\n",
    "    df = df[['Cluster_Category', 'name', 'reviews.rating', 'reviews.text']].dropna()  # Keep only relevant columns and drop missing\n",
    "    df = df[df['reviews.rating'].astype(str).str.isnumeric()]  # Ensure ratings are numeric\n",
    "    df['reviews.rating'] = df['reviews.rating'].astype(float)  # Convert rating to float\n",
    "\n",
    "    # Standardize some category labels\n",
    "    df.loc[df['Cluster_Category'].str.contains('supplies', case=False, na=False), 'Cluster_Category'] = 'Supplies'\n",
    "    df.loc[df['Cluster_Category'].str.contains('beauty', case=False, na=False), 'Cluster_Category'] = 'Health'\n",
    "    return df\n"
   ]
  },
  {
   "cell_type": "markdown",
   "metadata": {},
   "source": [
    "# Top Products Analysis"
   ]
  },
  {
   "cell_type": "code",
   "execution_count": 12,
   "metadata": {},
   "outputs": [],
   "source": [
    "# Main analysis function\n",
    "def get_top_products_by_category(df, category):\n",
    "    cat_df = df[df['Cluster_Category'] == category]  # Filter rows by category\n",
    "    if cat_df.empty:\n",
    "        return None, None, \"No reviews available for this category.\"\n",
    "\n",
    "    grouped = cat_df.groupby('name').agg({\n",
    "        'reviews.rating': 'mean',  # Compute average rating\n",
    "        'reviews.text': lambda x: list(x)  # Aggregate review texts\n",
    "    }).reset_index()\n",
    "\n",
    "    top3 = grouped.sort_values(by='reviews.rating', ascending=False).head(3)  # Top 3 products\n",
    "    worst = grouped.sort_values(by='reviews.rating', ascending=True).head(1)  # Worst product\n",
    "\n",
    "    top_summaries = []\n",
    "    for _, row in top3.iterrows():\n",
    "        name = row['name']\n",
    "        reviews = row['reviews.text']\n",
    "        summary = summarize_reviews(reviews)  # Summary of top reviews\n",
    "        complaints = summarize_reviews([r for r in reviews if \"not\" in r or \"bad\" in r or \"problem\" in r])  # Complaint summary\n",
    "        sentiment_summary = classify_reviews(reviews)  # Sentiment classification\n",
    "        top_summaries.append((name, summary, complaints, sentiment_summary))\n",
    "\n",
    "    worst_name = worst.iloc[0]['name']\n",
    "    worst_reviews = worst.iloc[0]['reviews.text']\n",
    "    worst_summary = summarize_reviews(worst_reviews)\n",
    "\n",
    "    return top_summaries, worst_name, worst_summary\n"
   ]
  },
  {
   "cell_type": "markdown",
   "metadata": {},
   "source": [
    "# Gradio App Logic"
   ]
  },
  {
   "cell_type": "code",
   "execution_count": 13,
   "metadata": {},
   "outputs": [],
   "source": [
    "\n",
    "# Gradio interface handler\n",
    "def analyze_uploaded_file(file, category):\n",
    "    try:\n",
    "        df = pd.read_csv(file.name)\n",
    "        df = clean_dataframe(df)\n",
    "    except Exception as e:\n",
    "        return f\"Error reading file: {e}\"\n",
    "\n",
    "    top_summaries, worst_name, worst_summary = get_top_products_by_category(df, category)\n",
    "    if top_summaries is None:\n",
    "        return worst_summary\n",
    "\n",
    "    result = f\"\\nBlog-Style Article for Category: {category}\\n\"\n",
    "    result += \"\\nHere's a breakdown of the top 3 products in a storytelling format:\\n\"\n",
    "\n",
    "    order_words = [\"First\", \"Second\", \"Third\"]\n",
    "    for i, (name, summary, complaints, sentiment) in enumerate(top_summaries):\n",
    "        result += f\"\"\"\\n{order_words[i]}, we examined the product titled: \\\"{name}\\\".\\n\"\"\"\n",
    "        result += f\"\"\"Here's what customers appreciated about it:\\n{summary}\\n\"\"\"\n",
    "        result += f\"\"\"On the other hand, some users highlighted concerns such as:\\n{complaints}\\n\"\"\"\n",
    "        result += f\"\"\"Based on the sentiment analysis, we found the following:\\n{sentiment}\\n\"\"\"\n",
    "        result += \"-\" * 60 + \"\\n\"\n",
    "\n",
    "    result += f\"\\nWorst Product Based on Reviews: {worst_name}\\n\"\n",
    "    result += f\"Why should it be avoided?\\n{worst_summary}\\n\"\n",
    "\n",
    "    avg_rating = df[df['Cluster_Category'] == category]['reviews.rating'].mean()\n",
    "    result += f\"\\nAverage Rating for {category}: {avg_rating:.2f}\"\n",
    "\n",
    "    return result"
   ]
  },
  {
   "cell_type": "markdown",
   "metadata": {},
   "source": [
    "# Gradio Interface Launch"
   ]
  },
  {
   "cell_type": "code",
   "execution_count": 15,
   "metadata": {},
   "outputs": [
    {
     "name": "stdout",
     "output_type": "stream",
     "text": [
      "* Running on local URL:  http://127.0.0.1:7861\n",
      "\n",
      "To create a public link, set `share=True` in `launch()`.\n"
     ]
    },
    {
     "data": {
      "text/html": [
       "<div><iframe src=\"http://127.0.0.1:7861/\" width=\"100%\" height=\"500\" allow=\"autoplay; camera; microphone; clipboard-read; clipboard-write;\" frameborder=\"0\" allowfullscreen></iframe></div>"
      ],
      "text/plain": [
       "<IPython.core.display.HTML object>"
      ]
     },
     "metadata": {},
     "output_type": "display_data"
    },
    {
     "data": {
      "text/plain": []
     },
     "execution_count": 15,
     "metadata": {},
     "output_type": "execute_result"
    },
    {
     "name": "stderr",
     "output_type": "stream",
     "text": [
      "Your max_length is set to 150, but your input_length is only 25. Since this is a summarization task, where outputs shorter than the input are typically wanted, you might consider decreasing max_length manually, e.g. summarizer('...', max_length=12)\n",
      "Your max_length is set to 150, but your input_length is only 3. Since this is a summarization task, where outputs shorter than the input are typically wanted, you might consider decreasing max_length manually, e.g. summarizer('...', max_length=1)\n",
      "Your max_length is set to 150, but your input_length is only 137. Since this is a summarization task, where outputs shorter than the input are typically wanted, you might consider decreasing max_length manually, e.g. summarizer('...', max_length=68)\n",
      "Your max_length is set to 150, but your input_length is only 76. Since this is a summarization task, where outputs shorter than the input are typically wanted, you might consider decreasing max_length manually, e.g. summarizer('...', max_length=38)\n",
      "Your max_length is set to 150, but your input_length is only 3. Since this is a summarization task, where outputs shorter than the input are typically wanted, you might consider decreasing max_length manually, e.g. summarizer('...', max_length=1)\n"
     ]
    }
   ],
   "source": [
    "# Categories\n",
    "categories = [\"Electronics\", \"Supplies\", \"H Electronics\", \"Tablets\", \"Batteries\", \"Computer Accessories\"]\n",
    "\n",
    "# Gradio UI\n",
    "interface = gr.Interface(\n",
    "    fn=analyze_uploaded_file,\n",
    "    inputs=[\n",
    "        gr.File(label=\"Upload CSV File\"),  # Upload CSV with reviews\n",
    "        gr.Dropdown(choices=categories, label=\"Select a Category\")  # Category selection dropdown\n",
    "    ],\n",
    "    outputs=\"text\",  # Plain text output\n",
    "    title=\" Product Review Analyzer with CSV Upload\",\n",
    "    description=\"Upload a CSV file containing product reviews and choose a category to analyze.\"\n",
    ")\n",
    "\n",
    "interface.launch(share=False)  # Start the interface\n"
   ]
  }
 ],
 "metadata": {
  "kernelspec": {
   "display_name": "Python 3",
   "language": "python",
   "name": "python3"
  },
  "language_info": {
   "codemirror_mode": {
    "name": "ipython",
    "version": 3
   },
   "file_extension": ".py",
   "mimetype": "text/x-python",
   "name": "python",
   "nbconvert_exporter": "python",
   "pygments_lexer": "ipython3",
   "version": "3.11.5"
  },
  "orig_nbformat": 4,
  "vscode": {
   "interpreter": {
    "hash": "aee8b7b246df8f9039afb4144a1f6fd8d2ca17a180786b69acc140d282b71a49"
   }
  }
 },
 "nbformat": 4,
 "nbformat_minor": 2
}
